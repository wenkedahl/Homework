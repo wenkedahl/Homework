{
 "cells": [
  {
   "cell_type": "code",
   "execution_count": 2,
   "metadata": {},
   "outputs": [],
   "source": [
    "# import dependencies\n",
    "import pandas as pd\n",
    "from splinter import Browser"
   ]
  },
  {
   "cell_type": "code",
   "execution_count": 3,
   "metadata": {},
   "outputs": [],
   "source": [
    "# create the browser helper function\n",
    "def init_browser():\n",
    "    exec_path = {'executable_path': '/usr/local/bin/chromedriver'}\n",
    "    return Browser('chrome', **exec_path, headless=True)"
   ]
  },
  {
   "cell_type": "code",
   "execution_count": 4,
   "metadata": {},
   "outputs": [],
   "source": [
    "# urls to explore and scrape\n",
    "url1 = 'https://mars.nasa.gov/news/'\n",
    "url2 = 'https://www.jpl.nasa.gov/spaceimages/?search=&category=Mars'\n",
    "url3 = 'https://twitter.com/marswxreport?lang=en'\n",
    "url4 = 'http://space-facts.com/mars/'\n",
    "url5 = 'https://astrogeology.usgs.gov/search/results?q=hemisphere+enhanced&k1=target&v1=Mars'"
   ]
  },
  {
   "cell_type": "code",
   "execution_count": 5,
   "metadata": {},
   "outputs": [
    {
     "name": "stdout",
     "output_type": "stream",
     "text": [
      "NASA's InSight Will Study Mars While Standing Still \n",
      "The lander's unique science can teach us how planets are born.\n"
     ]
    }
   ],
   "source": [
    "# NASA Mars news\n",
    "browser = init_browser()\n",
    "browser.visit(url1)\n",
    "news_title = browser.find_by_css('.content_title').first.text\n",
    "news_p = browser.find_by_css('.article_teaser_body').first.text\n",
    "print(news_title, \"\\n\" + news_p)"
   ]
  },
  {
   "cell_type": "code",
   "execution_count": 6,
   "metadata": {},
   "outputs": [
    {
     "name": "stdout",
     "output_type": "stream",
     "text": [
      "https://www.jpl.nasa.gov/spaceimages/images/mediumsize/PIA18811_ip.jpg\n"
     ]
    }
   ],
   "source": [
    "# JPL Mars space image\n",
    "browser = init_browser()\n",
    "browser.visit(url2)\n",
    "browser.find_by_id('full_image').click()\n",
    "featured_image_url = browser.find_by_css('.fancybox-image').first['src']\n",
    "print(featured_image_url)"
   ]
  },
  {
   "cell_type": "code",
   "execution_count": 7,
   "metadata": {},
   "outputs": [
    {
     "name": "stdout",
     "output_type": "stream",
     "text": [
      "Sol 2174 (2018-09-17), high -22C/-7F, low -68C/-90F, pressure at 8.96 hPa, daylight 05:45-18:01\n"
     ]
    }
   ],
   "source": [
    "# Mars weather\n",
    "browser = init_browser()\n",
    "browser.visit(url3)\n",
    "for text in browser.find_by_css('.tweet-text'):\n",
    "    if text.text.partition(' ')[0] == 'Sol':\n",
    "        mars_weather = text.text\n",
    "        break\n",
    "print(mars_weather)"
   ]
  },
  {
   "cell_type": "code",
   "execution_count": 8,
   "metadata": {},
   "outputs": [
    {
     "name": "stdout",
     "output_type": "stream",
     "text": [
      "<table border=\"1\" class=\"dataframe\">\n",
      "  <thead>\n",
      "    <tr style=\"text-align: right;\">\n",
      "      <th></th>\n",
      "      <th>value</th>\n",
      "    </tr>\n",
      "  </thead>\n",
      "  <tbody>\n",
      "    <tr>\n",
      "      <th>Equatorial Diameter:</th>\n",
      "      <td>6,792 km</td>\n",
      "    </tr>\n",
      "    <tr>\n",
      "      <th>Polar Diameter:</th>\n",
      "      <td>6,752 km</td>\n",
      "    </tr>\n",
      "    <tr>\n",
      "      <th>Mass:</th>\n",
      "      <td>6.42 x 10^23 kg (10.7% Earth)</td>\n",
      "    </tr>\n",
      "    <tr>\n",
      "      <th>Moons:</th>\n",
      "      <td>2 (Phobos &amp; Deimos)</td>\n",
      "    </tr>\n",
      "    <tr>\n",
      "      <th>Orbit Distance:</th>\n",
      "      <td>227,943,824 km (1.52 AU)</td>\n",
      "    </tr>\n",
      "    <tr>\n",
      "      <th>Orbit Period:</th>\n",
      "      <td>687 days (1.9 years)</td>\n",
      "    </tr>\n",
      "    <tr>\n",
      "      <th>Surface Temperature:</th>\n",
      "      <td>-153 to 20 °C</td>\n",
      "    </tr>\n",
      "    <tr>\n",
      "      <th>First Record:</th>\n",
      "      <td>2nd millennium BC</td>\n",
      "    </tr>\n",
      "    <tr>\n",
      "      <th>Recorded By:</th>\n",
      "      <td>Egyptian astronomers</td>\n",
      "    </tr>\n",
      "  </tbody>\n",
      "</table>\n"
     ]
    }
   ],
   "source": [
    "# Mars facts\n",
    "df = pd.read_html(url4, attrs = {'id': 'tablepress-mars'})[0]\n",
    "df = df.set_index(0).rename(columns={1:\"value\"})\n",
    "del df.index.name\n",
    "mars_facts = df.to_html()\n",
    "print(mars_facts)"
   ]
  },
  {
   "cell_type": "code",
   "execution_count": 9,
   "metadata": {},
   "outputs": [
    {
     "name": "stdout",
     "output_type": "stream",
     "text": [
      "[{'title': 'Cerberus Hemisphere Enhanced', 'img_url': 'http://astropedia.astrogeology.usgs.gov/download/Mars/Viking/cerberus_enhanced.tif/full.jpg'}, {'title': 'Schiaparelli Hemisphere Enhanced', 'img_url': 'http://astropedia.astrogeology.usgs.gov/download/Mars/Viking/schiaparelli_enhanced.tif/full.jpg'}, {'title': 'Syrtis Major Hemisphere Enhanced', 'img_url': 'http://astropedia.astrogeology.usgs.gov/download/Mars/Viking/syrtis_major_enhanced.tif/full.jpg'}, {'title': 'Valles Marineris Hemisphere Enhanced', 'img_url': 'http://astropedia.astrogeology.usgs.gov/download/Mars/Viking/valles_marineris_enhanced.tif/full.jpg'}]\n"
     ]
    }
   ],
   "source": [
    "# Mars Hemispheres\n",
    "browser = init_browser()\n",
    "browser.visit(url5)\n",
    "\n",
    "first = browser.find_by_tag('h3')[0].text\n",
    "second = browser.find_by_tag('h3')[1].text\n",
    "third = browser.find_by_tag('h3')[2].text\n",
    "fourth = browser.find_by_tag('h3')[3].text\n",
    "\n",
    "browser.find_by_css('.thumb')[0].click()\n",
    "first_img = browser.find_by_text('Sample')['href']\n",
    "browser.back()\n",
    "\n",
    "browser.find_by_css('.thumb')[1].click()\n",
    "second_img = browser.find_by_text('Sample')['href']\n",
    "browser.back()\n",
    "\n",
    "browser.find_by_css('.thumb')[2].click()\n",
    "third_img = browser.find_by_text('Sample')['href']\n",
    "browser.back()\n",
    "\n",
    "browser.find_by_css('.thumb')[3].click()\n",
    "fourth_img = browser.find_by_text('Sample')['href']\n",
    "\n",
    "hemisphere_image_urls = [\n",
    "    {'title': first, 'img_url': first_img},\n",
    "    {'title': second, 'img_url': second_img},\n",
    "    {'title': third, 'img_url': third_img},\n",
    "    {'title': fourth, 'img_url': fourth_img}\n",
    "]\n",
    "\n",
    "print(hemisphere_image_urls)"
   ]
  },
  {
   "cell_type": "code",
   "execution_count": null,
   "metadata": {},
   "outputs": [],
   "source": []
  }
 ],
 "metadata": {
  "kernelspec": {
   "display_name": "Python 3",
   "language": "python",
   "name": "python3"
  },
  "language_info": {
   "codemirror_mode": {
    "name": "ipython",
    "version": 3
   },
   "file_extension": ".py",
   "mimetype": "text/x-python",
   "name": "python",
   "nbconvert_exporter": "python",
   "pygments_lexer": "ipython3",
   "version": "3.6.5"
  }
 },
 "nbformat": 4,
 "nbformat_minor": 2
}
